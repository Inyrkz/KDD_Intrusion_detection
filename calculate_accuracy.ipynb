{
 "cells": [
  {
   "cell_type": "markdown",
   "id": "9750645d",
   "metadata": {},
   "source": [
    "Script to manually calculate the accuracy of each class of the model's prediction. It uses a CSV file that shows the model_predicted value and the actual value."
   ]
  },
  {
   "cell_type": "code",
   "execution_count": 3,
   "id": "41976fb1",
   "metadata": {},
   "outputs": [
    {
     "name": "stdout",
     "output_type": "stream",
     "text": [
      "Working on DoS\n",
      "Percentage of matching predictions: 94%\n",
      "Working on Normal\n",
      "Percentage of matching predictions: 99%\n",
      "Working on Probe\n",
      "Percentage of matching predictions: 88%\n",
      "Working on R2L\n",
      "Percentage of matching predictions: 13%\n",
      "Working on U2R\n",
      "Percentage of matching predictions: 26%\n"
     ]
    }
   ],
   "source": [
    "import pandas as pd\n",
    "\n",
    "\n",
    "df = pd.read_csv('test_set_result_for_AIRS[final].csv')\n",
    "\n",
    "classes = ['DoS', 'Normal', 'Probe', 'R2L', 'U2R']\n",
    "\n",
    "for value in classes:\n",
    "    print(f\"Working on {value}\")\n",
    "    filtered_df = df[df['actual_value'] == value]\n",
    "    # Check the percentage of values in 'model_prediction' that match the filtered value\n",
    "    matching_predictions = filtered_df[filtered_df['model_prediction'] == value]\n",
    "    percentage = 100 * len(matching_predictions) / len(filtered_df)\n",
    "    print(\"Percentage of matching predictions: {:.0f}%\".format(percentage))"
   ]
  },
  {
   "cell_type": "code",
   "execution_count": null,
   "id": "58e06ff6",
   "metadata": {},
   "outputs": [],
   "source": [
    "# # For multiple CSV files in this directory\n",
    "\n",
    "# import pandas\n",
    "# import os\n",
    "\n",
    "# # Define the directory containing the CSV files\n",
    "# directory = \"/path/to/csv/files\"\n",
    "\n",
    "# # Loop through all the files in the directory\n",
    "# for filename in os.listdir(directory):\n",
    "#     if filename.endswith(\".csv\"):\n",
    "#         filepath = os.path.join(directory, filename)\n",
    "\n",
    "#         # Read the CSV file into a Pandas DataFrame\n",
    "#         df = pd.read_csv(filepath)\n",
    "\n",
    "#         # Filter the 'actual_value' column based on a value\n",
    "#         value = 5\n",
    "#         for value in classes:\n",
    "#             print(f\"Working on {value}\")\n",
    "#             filtered_df = df[df['actual_value'] == value]\n",
    "#             # Check the percentage of values in 'model_prediction' that match the filtered value\n",
    "#             matching_predictions = filtered_df[filtered_df['model_prediction'] == value]\n",
    "#             percentage = 100 * len(matching_predictions) / len(filtered_df)\n",
    "#             print(\"Percentage of matching predictions: {:.0f}%\".format(percentage))"
   ]
  }
 ],
 "metadata": {
  "kernelspec": {
   "display_name": "Python 3 (ipykernel)",
   "language": "python",
   "name": "python3"
  },
  "language_info": {
   "codemirror_mode": {
    "name": "ipython",
    "version": 3
   },
   "file_extension": ".py",
   "mimetype": "text/x-python",
   "name": "python",
   "nbconvert_exporter": "python",
   "pygments_lexer": "ipython3",
   "version": "3.9.7"
  }
 },
 "nbformat": 4,
 "nbformat_minor": 5
}
